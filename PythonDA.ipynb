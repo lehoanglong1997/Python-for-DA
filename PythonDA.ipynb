{
    "metadata": {
        "kernelspec": {
            "name": "python3",
            "display_name": "Python 3 (ipykernel)",
            "language": "python"
        },
        "language_info": {
            "name": "python",
            "version": "3.8.10",
            "mimetype": "text/x-python",
            "codemirror_mode": {
                "name": "ipython",
                "version": 3
            },
            "pygments_lexer": "ipython3",
            "nbconvert_exporter": "python",
            "file_extension": ".py"
        }
    },
    "nbformat_minor": 2,
    "nbformat": 4,
    "cells": [
        {
            "cell_type": "markdown",
            "source": [
                "Import các thư viện cần thiết"
            ],
            "metadata": {
                "azdata_cell_guid": "363dff4d-b66c-4f03-99ea-b774a9c5e785"
            },
            "attachments": {}
        },
        {
            "cell_type": "code",
            "source": [
                "#Import the required libaries\r\n",
                "import pandas as pd\r\n",
                "import numpy as np\r\n",
                "import matplotlib.pyplot as plt\r\n",
                "import seaborn as sns\r\n",
                "import os\r\n",
                "from datetime import datetime"
            ],
            "metadata": {
                "azdata_cell_guid": "8338c2b9-34ad-4a03-ac53-6755293e99b7"
            },
            "outputs": [],
            "execution_count": null
        },
        {
            "cell_type": "markdown",
            "source": [
                "Import files"
            ],
            "metadata": {
                "azdata_cell_guid": "5dd6ca70-219a-4568-b83e-8fa53871ca0c"
            },
            "attachments": {}
        },
        {
            "cell_type": "code",
            "source": [
                "#Import the data\r\n",
                "file_path = 'D:\\PythonDA\\\\data\\\\USSales\\\\'\r\n",
                "df = pd.read_csv(file_path + 'sale.csv')\r\n",
                "df = pd.read_excel(file_path + 'bi_dimensions.xlsx', skiprows=[0], sheet_name='product')"
            ],
            "metadata": {
                "azdata_cell_guid": "d6b47d2b-701b-41aa-8104-3c9350f104af"
            },
            "outputs": [],
            "execution_count": null
        },
        {
            "cell_type": "markdown",
            "source": [
                "Một số lệnh kiểm tra thông tin data"
            ],
            "metadata": {
                "azdata_cell_guid": "c94db7f4-2526-4d9b-aab5-0628515af4bf"
            },
            "attachments": {}
        },
        {
            "cell_type": "code",
            "source": [
                "df.info() # Non-Null Count + Dtype"
            ],
            "metadata": {
                "azdata_cell_guid": "124f671a-dd2f-4228-bed7-b80e8cd0aa75"
            },
            "outputs": [],
            "execution_count": null
        },
        {
            "cell_type": "code",
            "source": [
                "df.describe() # Một số thông tin: min, max, count, mean, std, 25%, 50%, 75%, freq., unique, top "
            ],
            "metadata": {
                "azdata_cell_guid": "ed3d1894-22ec-4589-afc0-d8179c5ebee2"
            },
            "outputs": [],
            "execution_count": null
        },
        {
            "cell_type": "code",
            "source": [
                "#Lấy 5 dòng đầu tiên của DF\r\n",
                "df.head()"
            ],
            "metadata": {
                "azdata_cell_guid": "c5810246-70fe-4ccf-88c1-11b2fad67d6a"
            },
            "outputs": [],
            "execution_count": null
        },
        {
            "cell_type": "markdown",
            "source": [
                "Một số lệnh cơ bản"
            ],
            "metadata": {
                "azdata_cell_guid": "4e2a0f7b-75c1-45af-bec3-0ac215031acb"
            },
            "attachments": {}
        },
        {
            "cell_type": "code",
            "source": [
                "df['column'].unique().tolist() #Lấy các giá trị Unique --> Thường dùng để kiểm tra tên Category, Segment, Region, Country, Consumer,...\r\n",
                "df.sort_values(by='column', inplace=True) # Sort DF theo cột\r\n",
                "df = df.rename(columns = {'City': 'CITY'}, index = {0: \"x\", 1: \"y\", 2: \"z\"}) # Đổi tên col, row\r\n",
                "df.dropna() # Xoá các giá trị #N/A tra theo row -- axis='columns' tra theo col -- how = 'all' xoá nếu tất cả N/A -- thresh = 2 at least 2 N/A -- subset = [col1, col2] tra theo cột cụ thể"
            ],
            "metadata": {
                "azdata_cell_guid": "5c519a63-40f3-48d8-a275-ab5ffbc2e001",
                "tags": []
            },
            "outputs": [],
            "execution_count": null
        },
        {
            "cell_type": "code",
            "source": [
                "# Merge\r\n",
                "df1.merge(df2, how = 'left', on = ['col1']) # how = 'inner' / 'right' / 'cross'\r\n",
                "df = pd.merge(df1, df2, ,how = 'left', on = ['col1'])\r\n",
                "df1.merge(df2, left_on='lkey', right_on='rkey')"
            ],
            "metadata": {
                "azdata_cell_guid": "03cc372e-1f7e-4586-83d2-cc670fd160a0",
                "tags": []
            },
            "outputs": [],
            "execution_count": null
        },
        {
            "cell_type": "code",
            "source": [
                "# Lọc DF theo điều kiện\r\n",
                "df_filtered = df[(df['order_purchase_timestamp'] >= '2017-01-01') & (df['order_purchase_timestamp'] <= '2018-08-31')]"
            ],
            "metadata": {
                "azdata_cell_guid": "3befbb04-1b1a-4a75-a58b-3fc64ba9b8e7",
                "tags": []
            },
            "outputs": [],
            "execution_count": null
        },
        {
            "cell_type": "code",
            "source": [
                "# Fill các record bị null\r\n",
                "df['order_delivered_customer_date'].bfill(inplace=True)\r\n",
                "for col in ['order_delivered_customer_date','order_approved_at','order_delivered_carrier_date','order_delivered_customer_date']:\r\n",
                "    df[col].fillna(method = 'ffill', inplace = True)"
            ],
            "metadata": {
                "azdata_cell_guid": "f33ab669-4ffd-4d0a-bf1c-33516d9b094d"
            },
            "outputs": [],
            "execution_count": null
        },
        {
            "cell_type": "code",
            "source": [
                "# Chuyển datatype cột sang dạng datetime\r\n",
                "# Cách 1\r\n",
                "for i in range(2,7):\r\n",
                "    df[df.columns[i]] = df[df.columns[i]].apply(pd.to_datetime)\r\n",
                "# Cách 2\r\n",
                "df['column'] = pd.to_datetime(df['column'])"
            ],
            "metadata": {
                "azdata_cell_guid": "fb02c805-96d9-4432-af5f-1111a51d58cb"
            },
            "outputs": [],
            "execution_count": null
        },
        {
            "cell_type": "code",
            "source": [
                "# Tạo các cột Năm, Tháng, Ngày\r\n",
                "df['year_ordered'] = df['order_purchase_timestamp'].dt.year\r\n",
                "df['month_ordered'] = df['order_purchase_timestamp'].dt.month\r\n",
                "df['day_ordered'] = df['order_purchase_timestamp'].dt.day"
            ],
            "metadata": {
                "azdata_cell_guid": "cbeacb87-3d7e-496d-8311-0c3a19d7aa6c"
            },
            "outputs": [],
            "execution_count": null
        },
        {
            "cell_type": "code",
            "source": [
                "# Groupby + Agg\r\n",
                "df_items_grouped = df_items.groupby(by = ['product_id','order_id'], as_index=False).agg({\r\n",
                "        'order_item_id': 'count', \r\n",
                "        'seller_id': 'first',\r\n",
                "        'shipping_limit_date': 'first',\r\n",
                "        'price': 'first',\r\n",
                "        'freight_value': 'first'\r\n",
                "        })"
            ],
            "metadata": {
                "azdata_cell_guid": "082afe2d-1665-4954-af07-495ebd0cbc95"
            },
            "outputs": [],
            "execution_count": null
        },
        {
            "cell_type": "code",
            "source": [
                "# Pivot\r\n",
                "profit_by_year = pd.pivot_table(df, values = 'Profit', index = 'month',\r\n",
                "                    columns = ['year'], aggfunc = np.sum, fill_value = 0).reset_index() # use ['A', 'B'] for multiple value / index / col\r\n",
                "                                                                                        # use aggfunc={'D': np.mean, 'E': [min, max, np.mean]} for multiple values"
            ],
            "metadata": {
                "azdata_cell_guid": "ffe260c0-42af-42fc-a79b-39ae90c1f47a"
            },
            "outputs": [],
            "execution_count": null
        }
    ]
}