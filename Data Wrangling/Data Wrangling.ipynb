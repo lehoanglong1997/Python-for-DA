{
    "metadata": {
        "kernelspec": {
            "name": "python3",
            "display_name": "Python 3 (ipykernel)",
            "language": "python"
        },
        "language_info": {
            "name": "python",
            "version": "3.8.10",
            "mimetype": "text/x-python",
            "codemirror_mode": {
                "name": "ipython",
                "version": 3
            },
            "pygments_lexer": "ipython3",
            "nbconvert_exporter": "python",
            "file_extension": ".py"
        }
    },
    "nbformat_minor": 2,
    "nbformat": 4,
    "cells": [
        {
            "cell_type": "markdown",
            "source": [
                "# University Analysis"
            ],
            "metadata": {
                "azdata_cell_guid": "e3c7d91c-2e6b-478f-b631-769005784f9c"
            },
            "attachments": {}
        },
        {
            "cell_type": "code",
            "source": [
                "import numpy as np\r\n",
                "import pandas as pd"
            ],
            "metadata": {
                "azdata_cell_guid": "d751a466-1aa5-4365-a8ca-ca27d415cb9f"
            },
            "outputs": [],
            "execution_count": 33
        },
        {
            "cell_type": "code",
            "source": [
                "uni = pd.read_csv('University_info.csv')\n",
                "crime = pd.read_csv('Crime.csv')\n",
                "startup_rank = pd.read_csv('metro_startup_ranking.csv')"
            ],
            "metadata": {
                "azdata_cell_guid": "3c1610ca-90e0-4a80-aa36-e4cbbc459632"
            },
            "outputs": [
                {
                    "name": "stderr",
                    "text": "C:\\Users\\ADMIN\\AppData\\Roaming\\Python\\Python38\\site-packages\\IPython\\core\\interactiveshell.py:3441: DtypeWarning: Columns (7,9,1427,1542,1561,1575,1725,1726,1727,1728) have mixed types.Specify dtype option on import or set low_memory=False.\n  exec(code_obj, self.user_global_ns, self.user_ns)\n",
                    "output_type": "stream"
                }
            ],
            "execution_count": 34
        },
        {
            "cell_type": "code",
            "source": [
                "uni.head(6)"
            ],
            "metadata": {
                "azdata_cell_guid": "b5856368-1ba3-40df-8bdd-a01f72f93cce"
            },
            "outputs": [
                {
                    "data": {
                        "text/plain": "   UNITID    OPEID  opeid6                               INSTNM        CITY  \\\n0  100654   100200    1002             Alabama A & M University      Normal   \n1  100663   105200    1052  University of Alabama at Birmingham  Birmingham   \n2  100690  2503400   25034                   Amridge University  Montgomery   \n3  100706   105500    1055  University of Alabama in Huntsville  Huntsville   \n4  100724   100500    1005             Alabama State University  Montgomery   \n5  100751   105100    1051            The University of Alabama  Tuscaloosa   \n\n  STABBR         ZIP                                       AccredAgency  \\\n0     AL       35762  Southern Association of Colleges and Schools C...   \n1     AL  35294-0110  Southern Association of Colleges and Schools C...   \n2     AL  36117-3553  Southern Association of Colleges and Schools C...   \n3     AL       35899  Southern Association of Colleges and Schools C...   \n4     AL  36104-0271  Southern Association of Colleges and Schools C...   \n5     AL  35487-0166  Southern Association of Colleges and Schools C...   \n\n                          INSTURL  \\\n0                   www.aamu.edu/   \n1                     www.uab.edu   \n2       www.amridgeuniversity.edu   \n3                     www.uah.edu   \n4  www.alasu.edu/email/index.aspx   \n5                     www.ua.edu/   \n\n                                              NPCURL  ...  \\\n0     galileo.aamu.edu/netpricecalculator/npcalc.htm  ...   \n1    www.collegeportraits.org/AL/UAB/estimator/agree  ...   \n2  tcc.noellevitz.com/(S(miwoihs5stz5cpyifh4nczu0...  ...   \n3                                    finaid.uah.edu/  ...   \n4  www.alasu.edu/cost-aid/forms/calculator/index....  ...   \n5                                        oira.ua.edu  ...   \n\n   PELL_RPY_3YR_RT_SUPP  NOPELL_RPY_3YR_RT_SUPP  FEMALE_RPY_3YR_RT_SUPP  \\\n0        0.443586698337           0.45251396648          0.484818805093   \n1        0.732297852901          0.795454545455          0.760521885522   \n2        0.600877192982                   0.775          0.610465116279   \n3        0.738341968912           0.85140562249          0.768378650554   \n4        0.320016820858          0.380829015544          0.364423717522   \n5        0.763829082478          0.876039304611          0.816259087905   \n\n   MALE_RPY_3YR_RT_SUPP  FIRSTGEN_RPY_3YR_RT_SUPP  \\\n0                 0.406            0.423580786026   \n1        0.755344418052            0.751552795031   \n2        0.686567164179            0.632653061224   \n3        0.798440979955            0.778156996587   \n4        0.286530612245            0.315737051793   \n5        0.816176470588            0.786885245902   \n\n   NOTFIRSTGEN_RPY_3YR_RT_SUPP  C150_L4_POOLED_SUPP  C150_4_POOLED_SUPP  \\\n0               0.442452830189                  NaN    0.30871831265508   \n1               0.765074770863                  NaN    0.50854980789381   \n2                         0.65                  NaN   PrivacySuppressed   \n3               0.791666666667                  NaN    0.47821134615384   \n4               0.334633385335                  NaN    0.25748195545488   \n5               0.838674335798                  NaN    0.66600935383909   \n\n   C200_L4_POOLED_SUPP  C200_4_POOLED_SUPP  \n0                  NaN    0.35168556430446  \n1                  NaN     0.4730923834537  \n2                  NaN   PrivacySuppressed  \n3                  NaN    0.49412939796716  \n4                  NaN    0.29365162671232  \n5                  NaN    0.69062709956709  \n\n[6 rows x 1729 columns]",
                        "text/html": "<div>\n<style scoped>\n    .dataframe tbody tr th:only-of-type {\n        vertical-align: middle;\n    }\n\n    .dataframe tbody tr th {\n        vertical-align: top;\n    }\n\n    .dataframe thead th {\n        text-align: right;\n    }\n</style>\n<table border=\"1\" class=\"dataframe\">\n  <thead>\n    <tr style=\"text-align: right;\">\n      <th></th>\n      <th>UNITID</th>\n      <th>OPEID</th>\n      <th>opeid6</th>\n      <th>INSTNM</th>\n      <th>CITY</th>\n      <th>STABBR</th>\n      <th>ZIP</th>\n      <th>AccredAgency</th>\n      <th>INSTURL</th>\n      <th>NPCURL</th>\n      <th>...</th>\n      <th>PELL_RPY_3YR_RT_SUPP</th>\n      <th>NOPELL_RPY_3YR_RT_SUPP</th>\n      <th>FEMALE_RPY_3YR_RT_SUPP</th>\n      <th>MALE_RPY_3YR_RT_SUPP</th>\n      <th>FIRSTGEN_RPY_3YR_RT_SUPP</th>\n      <th>NOTFIRSTGEN_RPY_3YR_RT_SUPP</th>\n      <th>C150_L4_POOLED_SUPP</th>\n      <th>C150_4_POOLED_SUPP</th>\n      <th>C200_L4_POOLED_SUPP</th>\n      <th>C200_4_POOLED_SUPP</th>\n    </tr>\n  </thead>\n  <tbody>\n    <tr>\n      <th>0</th>\n      <td>100654</td>\n      <td>100200</td>\n      <td>1002</td>\n      <td>Alabama A &amp; M University</td>\n      <td>Normal</td>\n      <td>AL</td>\n      <td>35762</td>\n      <td>Southern Association of Colleges and Schools C...</td>\n      <td>www.aamu.edu/</td>\n      <td>galileo.aamu.edu/netpricecalculator/npcalc.htm</td>\n      <td>...</td>\n      <td>0.443586698337</td>\n      <td>0.45251396648</td>\n      <td>0.484818805093</td>\n      <td>0.406</td>\n      <td>0.423580786026</td>\n      <td>0.442452830189</td>\n      <td>NaN</td>\n      <td>0.30871831265508</td>\n      <td>NaN</td>\n      <td>0.35168556430446</td>\n    </tr>\n    <tr>\n      <th>1</th>\n      <td>100663</td>\n      <td>105200</td>\n      <td>1052</td>\n      <td>University of Alabama at Birmingham</td>\n      <td>Birmingham</td>\n      <td>AL</td>\n      <td>35294-0110</td>\n      <td>Southern Association of Colleges and Schools C...</td>\n      <td>www.uab.edu</td>\n      <td>www.collegeportraits.org/AL/UAB/estimator/agree</td>\n      <td>...</td>\n      <td>0.732297852901</td>\n      <td>0.795454545455</td>\n      <td>0.760521885522</td>\n      <td>0.755344418052</td>\n      <td>0.751552795031</td>\n      <td>0.765074770863</td>\n      <td>NaN</td>\n      <td>0.50854980789381</td>\n      <td>NaN</td>\n      <td>0.4730923834537</td>\n    </tr>\n    <tr>\n      <th>2</th>\n      <td>100690</td>\n      <td>2503400</td>\n      <td>25034</td>\n      <td>Amridge University</td>\n      <td>Montgomery</td>\n      <td>AL</td>\n      <td>36117-3553</td>\n      <td>Southern Association of Colleges and Schools C...</td>\n      <td>www.amridgeuniversity.edu</td>\n      <td>tcc.noellevitz.com/(S(miwoihs5stz5cpyifh4nczu0...</td>\n      <td>...</td>\n      <td>0.600877192982</td>\n      <td>0.775</td>\n      <td>0.610465116279</td>\n      <td>0.686567164179</td>\n      <td>0.632653061224</td>\n      <td>0.65</td>\n      <td>NaN</td>\n      <td>PrivacySuppressed</td>\n      <td>NaN</td>\n      <td>PrivacySuppressed</td>\n    </tr>\n    <tr>\n      <th>3</th>\n      <td>100706</td>\n      <td>105500</td>\n      <td>1055</td>\n      <td>University of Alabama in Huntsville</td>\n      <td>Huntsville</td>\n      <td>AL</td>\n      <td>35899</td>\n      <td>Southern Association of Colleges and Schools C...</td>\n      <td>www.uah.edu</td>\n      <td>finaid.uah.edu/</td>\n      <td>...</td>\n      <td>0.738341968912</td>\n      <td>0.85140562249</td>\n      <td>0.768378650554</td>\n      <td>0.798440979955</td>\n      <td>0.778156996587</td>\n      <td>0.791666666667</td>\n      <td>NaN</td>\n      <td>0.47821134615384</td>\n      <td>NaN</td>\n      <td>0.49412939796716</td>\n    </tr>\n    <tr>\n      <th>4</th>\n      <td>100724</td>\n      <td>100500</td>\n      <td>1005</td>\n      <td>Alabama State University</td>\n      <td>Montgomery</td>\n      <td>AL</td>\n      <td>36104-0271</td>\n      <td>Southern Association of Colleges and Schools C...</td>\n      <td>www.alasu.edu/email/index.aspx</td>\n      <td>www.alasu.edu/cost-aid/forms/calculator/index....</td>\n      <td>...</td>\n      <td>0.320016820858</td>\n      <td>0.380829015544</td>\n      <td>0.364423717522</td>\n      <td>0.286530612245</td>\n      <td>0.315737051793</td>\n      <td>0.334633385335</td>\n      <td>NaN</td>\n      <td>0.25748195545488</td>\n      <td>NaN</td>\n      <td>0.29365162671232</td>\n    </tr>\n    <tr>\n      <th>5</th>\n      <td>100751</td>\n      <td>105100</td>\n      <td>1051</td>\n      <td>The University of Alabama</td>\n      <td>Tuscaloosa</td>\n      <td>AL</td>\n      <td>35487-0166</td>\n      <td>Southern Association of Colleges and Schools C...</td>\n      <td>www.ua.edu/</td>\n      <td>oira.ua.edu</td>\n      <td>...</td>\n      <td>0.763829082478</td>\n      <td>0.876039304611</td>\n      <td>0.816259087905</td>\n      <td>0.816176470588</td>\n      <td>0.786885245902</td>\n      <td>0.838674335798</td>\n      <td>NaN</td>\n      <td>0.66600935383909</td>\n      <td>NaN</td>\n      <td>0.69062709956709</td>\n    </tr>\n  </tbody>\n</table>\n<p>6 rows × 1729 columns</p>\n</div>"
                    },
                    "metadata": {},
                    "execution_count": 35,
                    "output_type": "execute_result"
                }
            ],
            "execution_count": 35
        },
        {
            "cell_type": "code",
            "source": [
                "crime.head(6)"
            ],
            "metadata": {
                "azdata_cell_guid": "e2ff6bc8-d357-470b-88e4-1ac006656b33"
            },
            "outputs": [
                {
                    "data": {
                        "text/plain": "                      MSA ViolentCrime  Murder  Rape  Robbery  \\\n0      Abilene, TX M.S.A.        412.5     5.3  56.0     78.4   \n1        Akron, OH M.S.A.        238.4     5.1  38.2     75.2   \n2       Albany, GA M.S.A.        667.9     7.8  30.4    157.9   \n3       Albany, OR M.S.A.        114.3     2.5  28.2     20.7   \n4  Albuquerque, NM M.S.A.        792.6     6.1  63.8    206.7   \n5   Alexandria, LA M.S.A.        936.4     4.5  35.5    120.1   \n\n   AggravatedAssault PropertyCrime Burglary    Theft  MotorVehicleTheft State  \\\n0              272.8       3,609.0    852.0  2,493.6              263.4    TX   \n1              119.8       2,552.4    575.3  1,853.0              124.1    OH   \n2              471.8       3,894.1  1,099.6  2,652.8              141.7    GA   \n3               63.0       3,208.4    484.6  2,476.1              247.7    OR   \n4              516.0       4,607.8    883.4  3,047.6              676.9    NM   \n5              776.3       4,565.9  1,167.0  3,083.7              315.2    LA   \n\n          City  \n0      Abilene  \n1        Akron  \n2       Albany  \n3       Albany  \n4  Albuquerque  \n5   Alexandria  ",
                        "text/html": "<div>\n<style scoped>\n    .dataframe tbody tr th:only-of-type {\n        vertical-align: middle;\n    }\n\n    .dataframe tbody tr th {\n        vertical-align: top;\n    }\n\n    .dataframe thead th {\n        text-align: right;\n    }\n</style>\n<table border=\"1\" class=\"dataframe\">\n  <thead>\n    <tr style=\"text-align: right;\">\n      <th></th>\n      <th>MSA</th>\n      <th>ViolentCrime</th>\n      <th>Murder</th>\n      <th>Rape</th>\n      <th>Robbery</th>\n      <th>AggravatedAssault</th>\n      <th>PropertyCrime</th>\n      <th>Burglary</th>\n      <th>Theft</th>\n      <th>MotorVehicleTheft</th>\n      <th>State</th>\n      <th>City</th>\n    </tr>\n  </thead>\n  <tbody>\n    <tr>\n      <th>0</th>\n      <td>Abilene, TX M.S.A.</td>\n      <td>412.5</td>\n      <td>5.3</td>\n      <td>56.0</td>\n      <td>78.4</td>\n      <td>272.8</td>\n      <td>3,609.0</td>\n      <td>852.0</td>\n      <td>2,493.6</td>\n      <td>263.4</td>\n      <td>TX</td>\n      <td>Abilene</td>\n    </tr>\n    <tr>\n      <th>1</th>\n      <td>Akron, OH M.S.A.</td>\n      <td>238.4</td>\n      <td>5.1</td>\n      <td>38.2</td>\n      <td>75.2</td>\n      <td>119.8</td>\n      <td>2,552.4</td>\n      <td>575.3</td>\n      <td>1,853.0</td>\n      <td>124.1</td>\n      <td>OH</td>\n      <td>Akron</td>\n    </tr>\n    <tr>\n      <th>2</th>\n      <td>Albany, GA M.S.A.</td>\n      <td>667.9</td>\n      <td>7.8</td>\n      <td>30.4</td>\n      <td>157.9</td>\n      <td>471.8</td>\n      <td>3,894.1</td>\n      <td>1,099.6</td>\n      <td>2,652.8</td>\n      <td>141.7</td>\n      <td>GA</td>\n      <td>Albany</td>\n    </tr>\n    <tr>\n      <th>3</th>\n      <td>Albany, OR M.S.A.</td>\n      <td>114.3</td>\n      <td>2.5</td>\n      <td>28.2</td>\n      <td>20.7</td>\n      <td>63.0</td>\n      <td>3,208.4</td>\n      <td>484.6</td>\n      <td>2,476.1</td>\n      <td>247.7</td>\n      <td>OR</td>\n      <td>Albany</td>\n    </tr>\n    <tr>\n      <th>4</th>\n      <td>Albuquerque, NM M.S.A.</td>\n      <td>792.6</td>\n      <td>6.1</td>\n      <td>63.8</td>\n      <td>206.7</td>\n      <td>516.0</td>\n      <td>4,607.8</td>\n      <td>883.4</td>\n      <td>3,047.6</td>\n      <td>676.9</td>\n      <td>NM</td>\n      <td>Albuquerque</td>\n    </tr>\n    <tr>\n      <th>5</th>\n      <td>Alexandria, LA M.S.A.</td>\n      <td>936.4</td>\n      <td>4.5</td>\n      <td>35.5</td>\n      <td>120.1</td>\n      <td>776.3</td>\n      <td>4,565.9</td>\n      <td>1,167.0</td>\n      <td>3,083.7</td>\n      <td>315.2</td>\n      <td>LA</td>\n      <td>Alexandria</td>\n    </tr>\n  </tbody>\n</table>\n</div>"
                    },
                    "metadata": {},
                    "execution_count": 36,
                    "output_type": "execute_result"
                }
            ],
            "execution_count": 36
        },
        {
            "cell_type": "code",
            "source": [
                "startup_rank.head(6)"
            ],
            "metadata": {
                "azdata_cell_guid": "43ddd5b5-9ecb-4c7b-ab2b-8b568dff5304"
            },
            "outputs": [
                {
                    "data": {
                        "text/plain": "   Metro Area Code                 Metro Area Name Metro Area Main City  \\\n0            12060  Atlanta-Sandy Springs-Marietta              Atlanta   \n1            12420    Austin-Round Rock-San Marcos               Austin   \n2            12580                Baltimore-Towson            Baltimore   \n3            14460         Boston-Cambridge-Quincy               Boston   \n4            16740    Charlotte-Gastonia-Rock Hill            Charlotte   \n5            16980       Chicago-Joliet-Naperville              Chicago   \n\n               Metro Area States  Startup Rank  \n0                        Georgia            13  \n1                          Texas             1  \n2                       Maryland            17  \n3    Massachusetts-New Hampshire            22  \n4  North Carolina-South Carolina            25  \n5     Illinois-Indiana-Wisconsin            21  ",
                        "text/html": "<div>\n<style scoped>\n    .dataframe tbody tr th:only-of-type {\n        vertical-align: middle;\n    }\n\n    .dataframe tbody tr th {\n        vertical-align: top;\n    }\n\n    .dataframe thead th {\n        text-align: right;\n    }\n</style>\n<table border=\"1\" class=\"dataframe\">\n  <thead>\n    <tr style=\"text-align: right;\">\n      <th></th>\n      <th>Metro Area Code</th>\n      <th>Metro Area Name</th>\n      <th>Metro Area Main City</th>\n      <th>Metro Area States</th>\n      <th>Startup Rank</th>\n    </tr>\n  </thead>\n  <tbody>\n    <tr>\n      <th>0</th>\n      <td>12060</td>\n      <td>Atlanta-Sandy Springs-Marietta</td>\n      <td>Atlanta</td>\n      <td>Georgia</td>\n      <td>13</td>\n    </tr>\n    <tr>\n      <th>1</th>\n      <td>12420</td>\n      <td>Austin-Round Rock-San Marcos</td>\n      <td>Austin</td>\n      <td>Texas</td>\n      <td>1</td>\n    </tr>\n    <tr>\n      <th>2</th>\n      <td>12580</td>\n      <td>Baltimore-Towson</td>\n      <td>Baltimore</td>\n      <td>Maryland</td>\n      <td>17</td>\n    </tr>\n    <tr>\n      <th>3</th>\n      <td>14460</td>\n      <td>Boston-Cambridge-Quincy</td>\n      <td>Boston</td>\n      <td>Massachusetts-New Hampshire</td>\n      <td>22</td>\n    </tr>\n    <tr>\n      <th>4</th>\n      <td>16740</td>\n      <td>Charlotte-Gastonia-Rock Hill</td>\n      <td>Charlotte</td>\n      <td>North Carolina-South Carolina</td>\n      <td>25</td>\n    </tr>\n    <tr>\n      <th>5</th>\n      <td>16980</td>\n      <td>Chicago-Joliet-Naperville</td>\n      <td>Chicago</td>\n      <td>Illinois-Indiana-Wisconsin</td>\n      <td>21</td>\n    </tr>\n  </tbody>\n</table>\n</div>"
                    },
                    "metadata": {},
                    "execution_count": 37,
                    "output_type": "execute_result"
                }
            ],
            "execution_count": 37
        },
        {
            "cell_type": "markdown",
            "source": [
                "# Criteria:\n",
                "\n",
                "1. University at urban/metropolitan area-\\> In University data, LOCALE column should be value 11, 12 or 13\n",
                "2. City rank \\>= 75th percentile-\\> In Metro Startup Ranking data, calculate 75th percentile then filter the data\n",
                "3. Total crimes number \\<= 50th percentile-\\> In Crime data, calculate total crimes number then filter the data\n",
                "4. University has “Computer And Information Sciences And Support Services” Program-\\> In University data, these following columns should have value different from 0\n",
                "\n",
                "- CIP11CERT1\n",
                "- CIP11CERT2\n",
                "- CIP11ASSOC\n",
                "- CIP11CERT4\n",
                "- CIP11BACHL_(These clues can be found in file Dictionary for University\\_info.csv)_"
            ],
            "metadata": {
                "azdata_cell_guid": "bd601ebd-b02f-4cf1-90df-355dbabd470a"
            },
            "attachments": {}
        },
        {
            "cell_type": "markdown",
            "source": [
                "### Step1 : Adjust columns in crime and startup\\_rank data"
            ],
            "metadata": {
                "azdata_cell_guid": "8e8da201-eb84-4e25-a1d0-dfb4416b2ebf"
            },
            "attachments": {}
        },
        {
            "cell_type": "code",
            "source": [
                "crime.dtypes\n",
                "# Columns ViolentCrime, PropertyCrime, Burglary, Theft are not in number format -> need to change"
            ],
            "metadata": {
                "azdata_cell_guid": "8fc80e8c-be84-4b2d-8074-10aaa81eb8ae"
            },
            "outputs": [
                {
                    "data": {
                        "text/plain": "MSA                   object\nViolentCrime          object\nMurder               float64\nRape                 float64\nRobbery              float64\nAggravatedAssault    float64\nPropertyCrime         object\nBurglary              object\nTheft                 object\nMotorVehicleTheft    float64\nState                 object\nCity                  object\ndtype: object"
                    },
                    "metadata": {},
                    "execution_count": 38,
                    "output_type": "execute_result"
                }
            ],
            "execution_count": 38
        },
        {
            "cell_type": "code",
            "source": [
                "# Need to remove \",\" from the number\n",
                "crime['ViolentCrime'] = crime['ViolentCrime'].str.replace(',','').astype(float)\n",
                "crime['PropertyCrime'] = crime['PropertyCrime'].str.replace(',','').astype(float)\n",
                "crime['Burglary'] = crime['Burglary'].str.replace(',','').astype(float)\n",
                "crime['Theft'] = crime['Theft'].str.replace(',','').astype(float)"
            ],
            "metadata": {
                "azdata_cell_guid": "26ad586a-615a-4ec0-901b-d2177cb1d426"
            },
            "outputs": [],
            "execution_count": 39
        },
        {
            "cell_type": "code",
            "source": [
                "crime.describe(include = 'all')"
            ],
            "metadata": {
                "azdata_cell_guid": "48411675-32fb-4c85-8d71-3e96f9ca5b1d"
            },
            "outputs": [
                {
                    "data": {
                        "text/plain": "                       MSA  ViolentCrime      Murder        Rape     Robbery  \\\ncount                  378    377.000000  378.000000  378.000000  378.000000   \nunique                 378           NaN         NaN         NaN         NaN   \ntop     Abilene, TX M.S.A.           NaN         NaN         NaN         NaN   \nfreq                     1           NaN         NaN         NaN         NaN   \nmean                   NaN    364.988064    4.574868   41.306614   77.702646   \nstd                    NaN    181.214645    3.383652   19.506386   53.977181   \nmin                    NaN     61.600000    0.000000    2.700000    2.300000   \n25%                    NaN    236.300000    2.200000   29.000000   36.625000   \n50%                    NaN    333.700000    3.800000   37.550000   67.350000   \n75%                    NaN    447.700000    6.275000   51.550000  106.050000   \nmax                    NaN   1160.000000   20.600000  165.600000  351.900000   \n\n        AggravatedAssault  PropertyCrime     Burglary        Theft  \\\ncount          377.000000     372.000000   374.000000   375.000000   \nunique                NaN            NaN          NaN          NaN   \ntop                   NaN            NaN          NaN          NaN   \nfreq                  NaN            NaN          NaN          NaN   \nmean           241.319098    2621.934409   537.622193  1900.392800   \nstd            137.267225     820.691755   229.176000   576.696896   \nmin             25.500000     420.000000   159.700000   226.500000   \n25%            144.200000    2022.100000   362.725000  1493.900000   \n50%            215.700000    2585.250000   503.350000  1854.000000   \n75%            304.900000    3207.950000   671.050000  2264.050000   \nmax            981.300000    5190.600000  1503.700000  3936.400000   \n\n        MotorVehicleTheft State         City  \ncount          378.000000   378          373  \nunique                NaN    58          341  \ntop                   NaN    CA  Springfield  \nfreq                  NaN    31            4  \nmean           191.081746   NaN          NaN  \nstd            134.532918   NaN          NaN  \nmin             15.700000   NaN          NaN  \n25%             97.550000   NaN          NaN  \n50%            154.450000   NaN          NaN  \n75%            249.650000   NaN          NaN  \nmax            718.600000   NaN          NaN  ",
                        "text/html": "<div>\n<style scoped>\n    .dataframe tbody tr th:only-of-type {\n        vertical-align: middle;\n    }\n\n    .dataframe tbody tr th {\n        vertical-align: top;\n    }\n\n    .dataframe thead th {\n        text-align: right;\n    }\n</style>\n<table border=\"1\" class=\"dataframe\">\n  <thead>\n    <tr style=\"text-align: right;\">\n      <th></th>\n      <th>MSA</th>\n      <th>ViolentCrime</th>\n      <th>Murder</th>\n      <th>Rape</th>\n      <th>Robbery</th>\n      <th>AggravatedAssault</th>\n      <th>PropertyCrime</th>\n      <th>Burglary</th>\n      <th>Theft</th>\n      <th>MotorVehicleTheft</th>\n      <th>State</th>\n      <th>City</th>\n    </tr>\n  </thead>\n  <tbody>\n    <tr>\n      <th>count</th>\n      <td>378</td>\n      <td>377.000000</td>\n      <td>378.000000</td>\n      <td>378.000000</td>\n      <td>378.000000</td>\n      <td>377.000000</td>\n      <td>372.000000</td>\n      <td>374.000000</td>\n      <td>375.000000</td>\n      <td>378.000000</td>\n      <td>378</td>\n      <td>373</td>\n    </tr>\n    <tr>\n      <th>unique</th>\n      <td>378</td>\n      <td>NaN</td>\n      <td>NaN</td>\n      <td>NaN</td>\n      <td>NaN</td>\n      <td>NaN</td>\n      <td>NaN</td>\n      <td>NaN</td>\n      <td>NaN</td>\n      <td>NaN</td>\n      <td>58</td>\n      <td>341</td>\n    </tr>\n    <tr>\n      <th>top</th>\n      <td>Abilene, TX M.S.A.</td>\n      <td>NaN</td>\n      <td>NaN</td>\n      <td>NaN</td>\n      <td>NaN</td>\n      <td>NaN</td>\n      <td>NaN</td>\n      <td>NaN</td>\n      <td>NaN</td>\n      <td>NaN</td>\n      <td>CA</td>\n      <td>Springfield</td>\n    </tr>\n    <tr>\n      <th>freq</th>\n      <td>1</td>\n      <td>NaN</td>\n      <td>NaN</td>\n      <td>NaN</td>\n      <td>NaN</td>\n      <td>NaN</td>\n      <td>NaN</td>\n      <td>NaN</td>\n      <td>NaN</td>\n      <td>NaN</td>\n      <td>31</td>\n      <td>4</td>\n    </tr>\n    <tr>\n      <th>mean</th>\n      <td>NaN</td>\n      <td>364.988064</td>\n      <td>4.574868</td>\n      <td>41.306614</td>\n      <td>77.702646</td>\n      <td>241.319098</td>\n      <td>2621.934409</td>\n      <td>537.622193</td>\n      <td>1900.392800</td>\n      <td>191.081746</td>\n      <td>NaN</td>\n      <td>NaN</td>\n    </tr>\n    <tr>\n      <th>std</th>\n      <td>NaN</td>\n      <td>181.214645</td>\n      <td>3.383652</td>\n      <td>19.506386</td>\n      <td>53.977181</td>\n      <td>137.267225</td>\n      <td>820.691755</td>\n      <td>229.176000</td>\n      <td>576.696896</td>\n      <td>134.532918</td>\n      <td>NaN</td>\n      <td>NaN</td>\n    </tr>\n    <tr>\n      <th>min</th>\n      <td>NaN</td>\n      <td>61.600000</td>\n      <td>0.000000</td>\n      <td>2.700000</td>\n      <td>2.300000</td>\n      <td>25.500000</td>\n      <td>420.000000</td>\n      <td>159.700000</td>\n      <td>226.500000</td>\n      <td>15.700000</td>\n      <td>NaN</td>\n      <td>NaN</td>\n    </tr>\n    <tr>\n      <th>25%</th>\n      <td>NaN</td>\n      <td>236.300000</td>\n      <td>2.200000</td>\n      <td>29.000000</td>\n      <td>36.625000</td>\n      <td>144.200000</td>\n      <td>2022.100000</td>\n      <td>362.725000</td>\n      <td>1493.900000</td>\n      <td>97.550000</td>\n      <td>NaN</td>\n      <td>NaN</td>\n    </tr>\n    <tr>\n      <th>50%</th>\n      <td>NaN</td>\n      <td>333.700000</td>\n      <td>3.800000</td>\n      <td>37.550000</td>\n      <td>67.350000</td>\n      <td>215.700000</td>\n      <td>2585.250000</td>\n      <td>503.350000</td>\n      <td>1854.000000</td>\n      <td>154.450000</td>\n      <td>NaN</td>\n      <td>NaN</td>\n    </tr>\n    <tr>\n      <th>75%</th>\n      <td>NaN</td>\n      <td>447.700000</td>\n      <td>6.275000</td>\n      <td>51.550000</td>\n      <td>106.050000</td>\n      <td>304.900000</td>\n      <td>3207.950000</td>\n      <td>671.050000</td>\n      <td>2264.050000</td>\n      <td>249.650000</td>\n      <td>NaN</td>\n      <td>NaN</td>\n    </tr>\n    <tr>\n      <th>max</th>\n      <td>NaN</td>\n      <td>1160.000000</td>\n      <td>20.600000</td>\n      <td>165.600000</td>\n      <td>351.900000</td>\n      <td>981.300000</td>\n      <td>5190.600000</td>\n      <td>1503.700000</td>\n      <td>3936.400000</td>\n      <td>718.600000</td>\n      <td>NaN</td>\n      <td>NaN</td>\n    </tr>\n  </tbody>\n</table>\n</div>"
                    },
                    "metadata": {},
                    "execution_count": 40,
                    "output_type": "execute_result"
                }
            ],
            "execution_count": 40
        },
        {
            "cell_type": "code",
            "source": [
                "crime.isna().sum()"
            ],
            "metadata": {
                "azdata_cell_guid": "104c3eb9-468f-440b-b1af-6cb599655e86"
            },
            "outputs": [
                {
                    "data": {
                        "text/plain": "MSA                  0\nViolentCrime         1\nMurder               0\nRape                 0\nRobbery              0\nAggravatedAssault    1\nPropertyCrime        6\nBurglary             4\nTheft                3\nMotorVehicleTheft    0\nState                0\nCity                 5\ndtype: int64"
                    },
                    "metadata": {},
                    "execution_count": 41,
                    "output_type": "execute_result"
                }
            ],
            "execution_count": 41
        },
        {
            "cell_type": "code",
            "source": [
                "# Number of NaN values are small enough -> Chamge to 0\n",
                "crime.loc[:,['ViolentCrime', 'AggravatedAssault', 'PropertyCrime', 'Burglary', 'Theft']] = \\\n",
                "    crime.loc[:,['ViolentCrime', 'AggravatedAssault', 'PropertyCrime', 'Burglary', 'Theft']].fillna(0)"
            ],
            "metadata": {
                "azdata_cell_guid": "6f0e9f05-c5f8-4edc-b10e-088cdbc632bf"
            },
            "outputs": [],
            "execution_count": 42
        },
        {
            "cell_type": "code",
            "source": [
                "crime.isna().sum()"
            ],
            "metadata": {
                "azdata_cell_guid": "e8cf52ff-1706-4929-8253-1dfdde52741e"
            },
            "outputs": [
                {
                    "data": {
                        "text/plain": "MSA                  0\nViolentCrime         0\nMurder               0\nRape                 0\nRobbery              0\nAggravatedAssault    0\nPropertyCrime        0\nBurglary             0\nTheft                0\nMotorVehicleTheft    0\nState                0\nCity                 5\ndtype: int64"
                    },
                    "metadata": {},
                    "execution_count": 43,
                    "output_type": "execute_result"
                }
            ],
            "execution_count": 43
        },
        {
            "cell_type": "code",
            "source": [
                "# Because City Name in startup_rank data has no blank -> need to remove blank from City column in crime data\n",
                "crime['City'] = crime['City'].str.replace(' ','')"
            ],
            "metadata": {
                "azdata_cell_guid": "39349f39-911d-4e47-9255-beef5dd272c0"
            },
            "outputs": [],
            "execution_count": 44
        },
        {
            "cell_type": "code",
            "source": [
                "# Calculate Total number of Crimes\n",
                "crime['No_of_crime'] = \\\n",
                "    crime['ViolentCrime'] + crime['Murder'] + crime['Rape'] + \\\n",
                "        crime['Robbery'] + crime['AggravatedAssault'] + crime['PropertyCrime'] + \\\n",
                "            crime['Burglary'] + crime['Theft'] + crime['MotorVehicleTheft']"
            ],
            "metadata": {
                "azdata_cell_guid": "e4fe4fb8-3387-4f17-9876-e3753102d336"
            },
            "outputs": [],
            "execution_count": 45
        },
        {
            "cell_type": "code",
            "source": [
                "# Rename column for later joining tables\n",
                "startup_rank.rename(columns = {'Metro Area Main City' : 'City', 'Metro Area States' : 'State', 'Startup Rank' : 'Startup_rank'}, inplace = True)"
            ],
            "metadata": {
                "azdata_cell_guid": "5f58811f-2019-41b2-b2c8-6d9fca45474d"
            },
            "outputs": [],
            "execution_count": 46
        },
        {
            "cell_type": "code",
            "source": [
                "# Turn UPPERCASE state columns in startup_rank data for later joining tables\n",
                "startup_rank['State'] = startup_rank['State'].str.upper()"
            ],
            "metadata": {
                "azdata_cell_guid": "dd15d916-3ae5-4723-ac09-f6e71bda89f8"
            },
            "outputs": [],
            "execution_count": 47
        },
        {
            "cell_type": "code",
            "source": [
                "# Split column state into rows because one State could have many Cities\n",
                "startup_rank = startup_rank.set_index(['Metro Area Code', 'Metro Area Name', 'City', 'Startup_rank']).apply(lambda x: x.str.split('-').explode()).reset_index()"
            ],
            "metadata": {
                "azdata_cell_guid": "8b3d4c93-6ef0-4159-b2b8-b46ab13f8010"
            },
            "outputs": [],
            "execution_count": 48
        },
        {
            "cell_type": "code",
            "source": [
                "# US State Code\n",
                "# ref: https://www.ssa.gov/international/coc-docs/states.html\n",
                "us_state_code = pd.read_csv('us_state_codes.csv')"
            ],
            "metadata": {
                "azdata_cell_guid": "cb698fc2-e4f8-4b44-8001-c3f206139d17"
            },
            "outputs": [],
            "execution_count": 49
        },
        {
            "cell_type": "code",
            "source": [
                "# Add state_code column into startup_rank data\n",
                "startup_rank = startup_rank.merge(us_state_code, left_on='State', right_on='state_name', how='left')"
            ],
            "metadata": {
                "azdata_cell_guid": "be13a0a2-434b-4ca1-9f41-900d57dd56ba"
            },
            "outputs": [],
            "execution_count": 50
        },
        {
            "cell_type": "markdown",
            "source": [
                "### Step 2: Create a table from joining startup_rank and crime data to filter cities qualified criteria 2 and 3</span>"
            ],
            "metadata": {
                "azdata_cell_guid": "2a99bfca-7327-415d-85b1-0bcf114c835e"
            },
            "attachments": {}
        },
        {
            "cell_type": "code",
            "source": [
                "# Create join keys\n",
                "startup_rank['join_key'] = startup_rank['City'] + startup_rank['state_code']\n",
                "crime['join_key'] = crime['City'] + crime['State']"
            ],
            "metadata": {
                "azdata_cell_guid": "57cffe38-92ae-4e02-b502-3c0072b546c6",
                "tags": []
            },
            "outputs": [],
            "execution_count": 51
        },
        {
            "cell_type": "code",
            "source": [
                "# Joining 2 tables\n",
                "city_criteria = startup_rank[[\"City\", \"State\", \"state_code\", \"Startup_rank\", \"join_key\"]].merge(crime[['join_key', 'No_of_crime', 'ViolentCrime', 'Murder', 'Rape', 'Robbery', 'AggravatedAssault', 'PropertyCrime', 'Burglary', 'Theft', 'MotorVehicleTheft']], left_on='join_key', right_on='join_key', how='left')"
            ],
            "metadata": {
                "azdata_cell_guid": "e67a9381-f8b0-4d68-bbfd-6397c2c87987"
            },
            "outputs": [],
            "execution_count": 52
        },
        {
            "cell_type": "code",
            "source": [
                "# Adjust the duplicate values\n",
                "city_criteria2 = city_criteria.groupby(['City', 'state_code', 'State', 'Startup_rank']).agg({'ViolentCrime': ['mean'], 'Murder': ['mean'], 'Rape': ['mean'], 'Robbery': ['mean'], 'AggravatedAssault': ['mean'], 'PropertyCrime': ['mean'], 'Burglary': ['mean'], 'Theft': ['mean'], 'MotorVehicleTheft': ['mean'], 'No_of_crime': ['mean'] }).reset_index()"
            ],
            "metadata": {
                "azdata_cell_guid": "37203eeb-24ff-47b8-96b5-2f0daa9a1acd"
            },
            "outputs": [],
            "execution_count": 53
        },
        {
            "cell_type": "code",
            "source": [
                "# Rename\n",
                "city_criteria2.columns = ['City', 'state_code', 'State', 'Startup_rank', 'ViolentCrime', 'Murder', 'Rape', 'Robbery', 'AggravatedAssault', 'PropertyCrime', 'Burglary', 'Theft', 'MotorVehicleTheft', 'No_of_crime']"
            ],
            "metadata": {
                "azdata_cell_guid": "55061b30-33a5-45ef-b73b-9038130b4fea"
            },
            "outputs": [],
            "execution_count": 54
        },
        {
            "cell_type": "code",
            "source": [
                "# Create qualified column for criteria  startup_rank >= 75% quartile(less is better) and no_of_crime < 50% quartile (less is better)\n",
                "city_criteria2['flag_startup_condition'] = np.where(city_criteria2['Startup_rank'] < city_criteria2['Startup_rank'].quantile(0.25), 'yes', 'no')\n",
                "city_criteria2['flag_crime_condition'] = np.where(city_criteria2['No_of_crime'] < city_criteria2['No_of_crime'].quantile(0.5), 'yes', 'no')"
            ],
            "metadata": {
                "azdata_cell_guid": "b2c6504f-643e-4b8f-9622-c37fbb1564ca"
            },
            "outputs": [],
            "execution_count": 55
        },
        {
            "cell_type": "markdown",
            "source": [
                "### Step 3: Filter with criteria 1 and 4"
            ],
            "metadata": {
                "azdata_cell_guid": "f11fbb65-d6a0-4922-92e4-1a5ae0089f29"
            },
            "attachments": {}
        },
        {
            "cell_type": "code",
            "source": [
                "uni2 = uni[(uni['LOCALE'].isin([11,12,13])) & \\\n",
                "    ( (uni['CIP11CERT1'] != 0)\\\n",
                "    | (uni['CIP11CERT2'] != 0)\\\n",
                "    | (uni['CIP11ASSOC'] != 0)\\\n",
                "    | (uni['CIP11CERT4'] != 0)\\\n",
                "    | (uni['CIP11BACHL'] != 0))]\\\n",
                "    .merge(city_criteria2, left_on=['CITY', 'STABBR'], right_on=['City', 'state_code'], how='left')"
            ],
            "metadata": {
                "azdata_cell_guid": "9901ca90-7750-417e-99c8-38c968a5c196"
            },
            "outputs": [],
            "execution_count": 56
        },
        {
            "cell_type": "code",
            "source": [
                "uni_shortlist = uni2[(uni2['flag_startup_condition'] == 'yes') & (uni2['flag_crime_condition'] == 'yes')]\\\r\n",
                "    [['UNITID', 'INSTNM', 'CITY', 'State', 'Startup_rank', 'No_of_crime']].reset_index(drop=True)"
            ],
            "metadata": {
                "azdata_cell_guid": "997c10b8-351f-4584-822a-84a337269537"
            },
            "outputs": [],
            "execution_count": 57
        },
        {
            "cell_type": "code",
            "source": [
                "uni_shortlist"
            ],
            "metadata": {
                "azdata_cell_guid": "5e8f8157-e928-4e0e-8a89-53f468f441f9"
            },
            "outputs": [
                {
                    "data": {
                        "text/plain": "    UNITID                                        INSTNM     CITY     State  \\\n0   126562                 University of Colorado Denver   Denver  COLORADO   \n1   126702                 The Art Institute of Colorado   Denver  COLORADO   \n2   126872                        College America-Denver   Denver  COLORADO   \n3   126942                   Community College of Denver   Denver  COLORADO   \n4   127060                          University of Denver   Denver  COLORADO   \n5   127158              Emily Griffith Technical College   Denver  COLORADO   \n6   127565       Metropolitan State University of Denver   Denver  COLORADO   \n7   127699           National American University-Denver   Denver  COLORADO   \n8   127918                              Regis University   Denver  COLORADO   \n9   222938                  The Art Institute of Houston  Houston     TEXAS   \n10  222992             Austin Community College District   Austin     TEXAS   \n11  224004                    Concordia University-Texas   Austin     TEXAS   \n12  225423                     Houston Community College  Houston     TEXAS   \n13  225432                University of Houston-Downtown  Houston     TEXAS   \n14  225511                         University of Houston  Houston     TEXAS   \n15  225575                   Huston-Tillotson University   Austin     TEXAS   \n16  225858          ITT Technical Institute-Houston West  Houston     TEXAS   \n17  227757                               Rice University  Houston     TEXAS   \n18  227845                     Saint Edward's University   Austin     TEXAS   \n19  228778             The University of Texas at Austin   Austin     TEXAS   \n20  229063                     Texas Southern University  Houston     TEXAS   \n21  366678                ITT Technical Institute-Austin   Austin     TEXAS   \n22  367361          Interactive Learning Systems-Houston  Houston     TEXAS   \n23  381787                 Westwood College-Denver South   Denver  COLORADO   \n24  438656                 Everest Institute-Greenspoint  Houston     TEXAS   \n25  441016                       Everest Institute-Hobby  Houston     TEXAS   \n26  442727                      Everest Institute-Austin   Austin     TEXAS   \n27  443696    Interactive Learning Systems-North Houston  Houston     TEXAS   \n28  445133  American InterContinental University-Houston  Houston     TEXAS   \n29  451820                   The Art Institute of Austin   Austin     TEXAS   \n30  451875           National American University-Austin   Austin     TEXAS   \n31  458973                      Strayer University-Texas   Austin     TEXAS   \n32  480888              CyberTex Institute of Technology   Austin     TEXAS   \n33  482307     National American University-Austin South   Austin     TEXAS   \n\n    Startup_rank  No_of_crime  \n0            5.0       1112.8  \n1            5.0       1112.8  \n2            5.0       1112.8  \n3            5.0       1112.8  \n4            5.0       1112.8  \n5            5.0       1112.8  \n6            5.0       1112.8  \n7            5.0       1112.8  \n8            5.0       1112.8  \n9            8.0       2097.2  \n10           1.0       5920.9  \n11           1.0       5920.9  \n12           8.0       2097.2  \n13           8.0       2097.2  \n14           8.0       2097.2  \n15           1.0       5920.9  \n16           8.0       2097.2  \n17           8.0       2097.2  \n18           1.0       5920.9  \n19           1.0       5920.9  \n20           8.0       2097.2  \n21           1.0       5920.9  \n22           8.0       2097.2  \n23           5.0       1112.8  \n24           8.0       2097.2  \n25           8.0       2097.2  \n26           1.0       5920.9  \n27           8.0       2097.2  \n28           8.0       2097.2  \n29           1.0       5920.9  \n30           1.0       5920.9  \n31           1.0       5920.9  \n32           1.0       5920.9  \n33           1.0       5920.9  ",
                        "text/html": "<div>\n<style scoped>\n    .dataframe tbody tr th:only-of-type {\n        vertical-align: middle;\n    }\n\n    .dataframe tbody tr th {\n        vertical-align: top;\n    }\n\n    .dataframe thead th {\n        text-align: right;\n    }\n</style>\n<table border=\"1\" class=\"dataframe\">\n  <thead>\n    <tr style=\"text-align: right;\">\n      <th></th>\n      <th>UNITID</th>\n      <th>INSTNM</th>\n      <th>CITY</th>\n      <th>State</th>\n      <th>Startup_rank</th>\n      <th>No_of_crime</th>\n    </tr>\n  </thead>\n  <tbody>\n    <tr>\n      <th>0</th>\n      <td>126562</td>\n      <td>University of Colorado Denver</td>\n      <td>Denver</td>\n      <td>COLORADO</td>\n      <td>5.0</td>\n      <td>1112.8</td>\n    </tr>\n    <tr>\n      <th>1</th>\n      <td>126702</td>\n      <td>The Art Institute of Colorado</td>\n      <td>Denver</td>\n      <td>COLORADO</td>\n      <td>5.0</td>\n      <td>1112.8</td>\n    </tr>\n    <tr>\n      <th>2</th>\n      <td>126872</td>\n      <td>College America-Denver</td>\n      <td>Denver</td>\n      <td>COLORADO</td>\n      <td>5.0</td>\n      <td>1112.8</td>\n    </tr>\n    <tr>\n      <th>3</th>\n      <td>126942</td>\n      <td>Community College of Denver</td>\n      <td>Denver</td>\n      <td>COLORADO</td>\n      <td>5.0</td>\n      <td>1112.8</td>\n    </tr>\n    <tr>\n      <th>4</th>\n      <td>127060</td>\n      <td>University of Denver</td>\n      <td>Denver</td>\n      <td>COLORADO</td>\n      <td>5.0</td>\n      <td>1112.8</td>\n    </tr>\n    <tr>\n      <th>5</th>\n      <td>127158</td>\n      <td>Emily Griffith Technical College</td>\n      <td>Denver</td>\n      <td>COLORADO</td>\n      <td>5.0</td>\n      <td>1112.8</td>\n    </tr>\n    <tr>\n      <th>6</th>\n      <td>127565</td>\n      <td>Metropolitan State University of Denver</td>\n      <td>Denver</td>\n      <td>COLORADO</td>\n      <td>5.0</td>\n      <td>1112.8</td>\n    </tr>\n    <tr>\n      <th>7</th>\n      <td>127699</td>\n      <td>National American University-Denver</td>\n      <td>Denver</td>\n      <td>COLORADO</td>\n      <td>5.0</td>\n      <td>1112.8</td>\n    </tr>\n    <tr>\n      <th>8</th>\n      <td>127918</td>\n      <td>Regis University</td>\n      <td>Denver</td>\n      <td>COLORADO</td>\n      <td>5.0</td>\n      <td>1112.8</td>\n    </tr>\n    <tr>\n      <th>9</th>\n      <td>222938</td>\n      <td>The Art Institute of Houston</td>\n      <td>Houston</td>\n      <td>TEXAS</td>\n      <td>8.0</td>\n      <td>2097.2</td>\n    </tr>\n    <tr>\n      <th>10</th>\n      <td>222992</td>\n      <td>Austin Community College District</td>\n      <td>Austin</td>\n      <td>TEXAS</td>\n      <td>1.0</td>\n      <td>5920.9</td>\n    </tr>\n    <tr>\n      <th>11</th>\n      <td>224004</td>\n      <td>Concordia University-Texas</td>\n      <td>Austin</td>\n      <td>TEXAS</td>\n      <td>1.0</td>\n      <td>5920.9</td>\n    </tr>\n    <tr>\n      <th>12</th>\n      <td>225423</td>\n      <td>Houston Community College</td>\n      <td>Houston</td>\n      <td>TEXAS</td>\n      <td>8.0</td>\n      <td>2097.2</td>\n    </tr>\n    <tr>\n      <th>13</th>\n      <td>225432</td>\n      <td>University of Houston-Downtown</td>\n      <td>Houston</td>\n      <td>TEXAS</td>\n      <td>8.0</td>\n      <td>2097.2</td>\n    </tr>\n    <tr>\n      <th>14</th>\n      <td>225511</td>\n      <td>University of Houston</td>\n      <td>Houston</td>\n      <td>TEXAS</td>\n      <td>8.0</td>\n      <td>2097.2</td>\n    </tr>\n    <tr>\n      <th>15</th>\n      <td>225575</td>\n      <td>Huston-Tillotson University</td>\n      <td>Austin</td>\n      <td>TEXAS</td>\n      <td>1.0</td>\n      <td>5920.9</td>\n    </tr>\n    <tr>\n      <th>16</th>\n      <td>225858</td>\n      <td>ITT Technical Institute-Houston West</td>\n      <td>Houston</td>\n      <td>TEXAS</td>\n      <td>8.0</td>\n      <td>2097.2</td>\n    </tr>\n    <tr>\n      <th>17</th>\n      <td>227757</td>\n      <td>Rice University</td>\n      <td>Houston</td>\n      <td>TEXAS</td>\n      <td>8.0</td>\n      <td>2097.2</td>\n    </tr>\n    <tr>\n      <th>18</th>\n      <td>227845</td>\n      <td>Saint Edward's University</td>\n      <td>Austin</td>\n      <td>TEXAS</td>\n      <td>1.0</td>\n      <td>5920.9</td>\n    </tr>\n    <tr>\n      <th>19</th>\n      <td>228778</td>\n      <td>The University of Texas at Austin</td>\n      <td>Austin</td>\n      <td>TEXAS</td>\n      <td>1.0</td>\n      <td>5920.9</td>\n    </tr>\n    <tr>\n      <th>20</th>\n      <td>229063</td>\n      <td>Texas Southern University</td>\n      <td>Houston</td>\n      <td>TEXAS</td>\n      <td>8.0</td>\n      <td>2097.2</td>\n    </tr>\n    <tr>\n      <th>21</th>\n      <td>366678</td>\n      <td>ITT Technical Institute-Austin</td>\n      <td>Austin</td>\n      <td>TEXAS</td>\n      <td>1.0</td>\n      <td>5920.9</td>\n    </tr>\n    <tr>\n      <th>22</th>\n      <td>367361</td>\n      <td>Interactive Learning Systems-Houston</td>\n      <td>Houston</td>\n      <td>TEXAS</td>\n      <td>8.0</td>\n      <td>2097.2</td>\n    </tr>\n    <tr>\n      <th>23</th>\n      <td>381787</td>\n      <td>Westwood College-Denver South</td>\n      <td>Denver</td>\n      <td>COLORADO</td>\n      <td>5.0</td>\n      <td>1112.8</td>\n    </tr>\n    <tr>\n      <th>24</th>\n      <td>438656</td>\n      <td>Everest Institute-Greenspoint</td>\n      <td>Houston</td>\n      <td>TEXAS</td>\n      <td>8.0</td>\n      <td>2097.2</td>\n    </tr>\n    <tr>\n      <th>25</th>\n      <td>441016</td>\n      <td>Everest Institute-Hobby</td>\n      <td>Houston</td>\n      <td>TEXAS</td>\n      <td>8.0</td>\n      <td>2097.2</td>\n    </tr>\n    <tr>\n      <th>26</th>\n      <td>442727</td>\n      <td>Everest Institute-Austin</td>\n      <td>Austin</td>\n      <td>TEXAS</td>\n      <td>1.0</td>\n      <td>5920.9</td>\n    </tr>\n    <tr>\n      <th>27</th>\n      <td>443696</td>\n      <td>Interactive Learning Systems-North Houston</td>\n      <td>Houston</td>\n      <td>TEXAS</td>\n      <td>8.0</td>\n      <td>2097.2</td>\n    </tr>\n    <tr>\n      <th>28</th>\n      <td>445133</td>\n      <td>American InterContinental University-Houston</td>\n      <td>Houston</td>\n      <td>TEXAS</td>\n      <td>8.0</td>\n      <td>2097.2</td>\n    </tr>\n    <tr>\n      <th>29</th>\n      <td>451820</td>\n      <td>The Art Institute of Austin</td>\n      <td>Austin</td>\n      <td>TEXAS</td>\n      <td>1.0</td>\n      <td>5920.9</td>\n    </tr>\n    <tr>\n      <th>30</th>\n      <td>451875</td>\n      <td>National American University-Austin</td>\n      <td>Austin</td>\n      <td>TEXAS</td>\n      <td>1.0</td>\n      <td>5920.9</td>\n    </tr>\n    <tr>\n      <th>31</th>\n      <td>458973</td>\n      <td>Strayer University-Texas</td>\n      <td>Austin</td>\n      <td>TEXAS</td>\n      <td>1.0</td>\n      <td>5920.9</td>\n    </tr>\n    <tr>\n      <th>32</th>\n      <td>480888</td>\n      <td>CyberTex Institute of Technology</td>\n      <td>Austin</td>\n      <td>TEXAS</td>\n      <td>1.0</td>\n      <td>5920.9</td>\n    </tr>\n    <tr>\n      <th>33</th>\n      <td>482307</td>\n      <td>National American University-Austin South</td>\n      <td>Austin</td>\n      <td>TEXAS</td>\n      <td>1.0</td>\n      <td>5920.9</td>\n    </tr>\n  </tbody>\n</table>\n</div>"
                    },
                    "metadata": {},
                    "execution_count": 58,
                    "output_type": "execute_result"
                }
            ],
            "execution_count": 58
        },
        {
            "cell_type": "markdown",
            "source": [
                "### **Extra:** Create method to rank universities"
            ],
            "metadata": {
                "azdata_cell_guid": "70e9ce63-5c9b-4d8f-a4ca-ef60091f2eb7"
            },
            "attachments": {}
        },
        {
            "cell_type": "code",
            "source": [
                "uni2['Total Degree'] = ( uni2['CIP11CERT1'] + uni2['CIP11CERT2'] + uni2['CIP11ASSOC'] + uni2['CIP11CERT4'] + uni2['CIP11BACHL'] )"
            ],
            "metadata": {
                "azdata_cell_guid": "8d13e8fe-6978-4505-bf45-951ec3048de1"
            },
            "outputs": [],
            "execution_count": 81
        },
        {
            "cell_type": "code",
            "source": [
                "uni_shortlist2 = uni2[(uni2['flag_startup_condition'] == 'yes') & (uni2['flag_crime_condition'] == 'yes')]\\\r\n",
                "    [['UNITID', 'INSTNM', 'CITY', 'State', 'LOCALE', 'Startup_rank', 'No_of_crime', 'Total Degree']].reset_index(drop=True)"
            ],
            "metadata": {
                "azdata_cell_guid": "f222f78a-9833-4115-915e-69a33c160c37"
            },
            "outputs": [],
            "execution_count": 109
        },
        {
            "cell_type": "code",
            "source": [
                "uni_shortlist2.head()"
            ],
            "metadata": {
                "azdata_cell_guid": "3a4f6cda-51d9-4691-bb5e-b81f0701d6d1"
            },
            "outputs": [
                {
                    "data": {
                        "text/plain": "   UNITID                         INSTNM    CITY     State  LOCALE  \\\n0  126562  University of Colorado Denver  Denver  COLORADO    11.0   \n1  126702  The Art Institute of Colorado  Denver  COLORADO    11.0   \n2  126872         College America-Denver  Denver  COLORADO    11.0   \n3  126942    Community College of Denver  Denver  COLORADO    11.0   \n4  127060           University of Denver  Denver  COLORADO    11.0   \n\n   Startup_rank  No_of_crime  Total Degree  \n0           5.0       1112.8           2.0  \n1           5.0       1112.8           3.0  \n2           5.0       1112.8           2.0  \n3           5.0       1112.8           4.0  \n4           5.0       1112.8           3.0  ",
                        "text/html": "<div>\n<style scoped>\n    .dataframe tbody tr th:only-of-type {\n        vertical-align: middle;\n    }\n\n    .dataframe tbody tr th {\n        vertical-align: top;\n    }\n\n    .dataframe thead th {\n        text-align: right;\n    }\n</style>\n<table border=\"1\" class=\"dataframe\">\n  <thead>\n    <tr style=\"text-align: right;\">\n      <th></th>\n      <th>UNITID</th>\n      <th>INSTNM</th>\n      <th>CITY</th>\n      <th>State</th>\n      <th>LOCALE</th>\n      <th>Startup_rank</th>\n      <th>No_of_crime</th>\n      <th>Total Degree</th>\n    </tr>\n  </thead>\n  <tbody>\n    <tr>\n      <th>0</th>\n      <td>126562</td>\n      <td>University of Colorado Denver</td>\n      <td>Denver</td>\n      <td>COLORADO</td>\n      <td>11.0</td>\n      <td>5.0</td>\n      <td>1112.8</td>\n      <td>2.0</td>\n    </tr>\n    <tr>\n      <th>1</th>\n      <td>126702</td>\n      <td>The Art Institute of Colorado</td>\n      <td>Denver</td>\n      <td>COLORADO</td>\n      <td>11.0</td>\n      <td>5.0</td>\n      <td>1112.8</td>\n      <td>3.0</td>\n    </tr>\n    <tr>\n      <th>2</th>\n      <td>126872</td>\n      <td>College America-Denver</td>\n      <td>Denver</td>\n      <td>COLORADO</td>\n      <td>11.0</td>\n      <td>5.0</td>\n      <td>1112.8</td>\n      <td>2.0</td>\n    </tr>\n    <tr>\n      <th>3</th>\n      <td>126942</td>\n      <td>Community College of Denver</td>\n      <td>Denver</td>\n      <td>COLORADO</td>\n      <td>11.0</td>\n      <td>5.0</td>\n      <td>1112.8</td>\n      <td>4.0</td>\n    </tr>\n    <tr>\n      <th>4</th>\n      <td>127060</td>\n      <td>University of Denver</td>\n      <td>Denver</td>\n      <td>COLORADO</td>\n      <td>11.0</td>\n      <td>5.0</td>\n      <td>1112.8</td>\n      <td>3.0</td>\n    </tr>\n  </tbody>\n</table>\n</div>"
                    },
                    "metadata": {},
                    "execution_count": 110,
                    "output_type": "execute_result"
                }
            ],
            "execution_count": 110
        },
        {
            "cell_type": "markdown",
            "source": [
                "**Methodology:**\n",
                "\n",
                "Allocate **Weight** to 4 criteria as following:\n",
                "\n",
                "1\\. Crimes (less = better) \\* 4  \n",
                "2\\. Startup Rank (1st = best) \\* 3  \n",
                "3\\. Locale (specified: 11 = 3, 12 = 2, 13 = 1) \\* 2  \n",
                "4\\. Total Degree (greater = variety) \\* 1\n",
                "\n",
                "Each criterion is scored by ranking formulas or allocate to it."
            ],
            "metadata": {
                "azdata_cell_guid": "a91a74bb-2399-4e53-8ef1-0ccba144ee66"
            },
            "attachments": {}
        },
        {
            "cell_type": "code",
            "source": [
                "# Create score tables\r\n",
                "# Crime criteria\r\n",
                "crime_crt = pd.DataFrame({'CITY' : uni_shortlist2['CITY'].unique(), 'No_of_crime' : uni_shortlist2['No_of_crime'].unique()})\r\n",
                "\r\n",
                "# Startup Rank criteria\r\n",
                "startup_crt = pd.DataFrame({'CITY' : uni_shortlist2['CITY'].unique(), 'Startup_rank' : uni_shortlist2['Startup_rank'].unique()})\r\n",
                "\r\n",
                "score1 = crime_crt.merge(startup_crt, on = 'CITY', how='left')\r\n",
                "score1['Crime Score'] = (score1['No_of_crime'].count() + 1 - score1['No_of_crime'].rank(pct = True)*score1['No_of_crime'].count())\r\n",
                "score1['Startup Score'] = (score1['Startup_rank'].count() + 1 - score1['Startup_rank'].rank(pct = True)*score1['Startup_rank'].count())\r\n",
                "score1"
            ],
            "metadata": {
                "azdata_cell_guid": "8dfa0662-6bd2-4692-a06c-f8f42a724dfa"
            },
            "outputs": [
                {
                    "data": {
                        "text/plain": "      CITY  No_of_crime  Startup_rank  Crime Score  Startup Score\n0   Denver       1112.8           5.0          3.0            2.0\n1  Houston       2097.2           8.0          2.0            1.0\n2   Austin       5920.9           1.0          1.0            3.0",
                        "text/html": "<div>\n<style scoped>\n    .dataframe tbody tr th:only-of-type {\n        vertical-align: middle;\n    }\n\n    .dataframe tbody tr th {\n        vertical-align: top;\n    }\n\n    .dataframe thead th {\n        text-align: right;\n    }\n</style>\n<table border=\"1\" class=\"dataframe\">\n  <thead>\n    <tr style=\"text-align: right;\">\n      <th></th>\n      <th>CITY</th>\n      <th>No_of_crime</th>\n      <th>Startup_rank</th>\n      <th>Crime Score</th>\n      <th>Startup Score</th>\n    </tr>\n  </thead>\n  <tbody>\n    <tr>\n      <th>0</th>\n      <td>Denver</td>\n      <td>1112.8</td>\n      <td>5.0</td>\n      <td>3.0</td>\n      <td>2.0</td>\n    </tr>\n    <tr>\n      <th>1</th>\n      <td>Houston</td>\n      <td>2097.2</td>\n      <td>8.0</td>\n      <td>2.0</td>\n      <td>1.0</td>\n    </tr>\n    <tr>\n      <th>2</th>\n      <td>Austin</td>\n      <td>5920.9</td>\n      <td>1.0</td>\n      <td>1.0</td>\n      <td>3.0</td>\n    </tr>\n  </tbody>\n</table>\n</div>"
                    },
                    "metadata": {},
                    "execution_count": 152,
                    "output_type": "execute_result"
                }
            ],
            "execution_count": 152
        },
        {
            "cell_type": "code",
            "source": [
                "# Locale score\r\n",
                "uni_shortlist2['LOCALE'].unique()\r\n",
                "score2 = pd.DataFrame({'LOCALE' : uni_shortlist2['LOCALE'].unique(), 'Locale Score' : [2,1]})\r\n",
                "score2"
            ],
            "metadata": {
                "azdata_cell_guid": "ace969f5-3f3f-4051-a7f0-25e14aa0265e"
            },
            "outputs": [
                {
                    "data": {
                        "text/plain": "   LOCALE  Locale Score\n0    11.0             2\n1    12.0             1",
                        "text/html": "<div>\n<style scoped>\n    .dataframe tbody tr th:only-of-type {\n        vertical-align: middle;\n    }\n\n    .dataframe tbody tr th {\n        vertical-align: top;\n    }\n\n    .dataframe thead th {\n        text-align: right;\n    }\n</style>\n<table border=\"1\" class=\"dataframe\">\n  <thead>\n    <tr style=\"text-align: right;\">\n      <th></th>\n      <th>LOCALE</th>\n      <th>Locale Score</th>\n    </tr>\n  </thead>\n  <tbody>\n    <tr>\n      <th>0</th>\n      <td>11.0</td>\n      <td>2</td>\n    </tr>\n    <tr>\n      <th>1</th>\n      <td>12.0</td>\n      <td>1</td>\n    </tr>\n  </tbody>\n</table>\n</div>"
                    },
                    "metadata": {},
                    "execution_count": 153,
                    "output_type": "execute_result"
                }
            ],
            "execution_count": 153
        },
        {
            "cell_type": "code",
            "source": [
                "# Degree score\r\n",
                "uni_shortlist2['Total Degree'].unique()\r\n",
                "degree_range = uni_shortlist2['Total Degree'].unique().tolist()\r\n",
                "print(degree_range)\r\n",
                "score3 = pd.DataFrame({'Total Degree' : range(1,9), 'Degree Score' : range(1,9)})\r\n",
                "score3"
            ],
            "metadata": {
                "azdata_cell_guid": "52e48045-e597-4299-9212-63af608c1a4c"
            },
            "outputs": [
                {
                    "name": "stdout",
                    "text": "[2.0, 3.0, 4.0, 6.0, 5.0, 1.0, 8.0]\n",
                    "output_type": "stream"
                },
                {
                    "data": {
                        "text/plain": "   Total Degree  Degree Score\n0             1             1\n1             2             2\n2             3             3\n3             4             4\n4             5             5\n5             6             6\n6             7             7\n7             8             8",
                        "text/html": "<div>\n<style scoped>\n    .dataframe tbody tr th:only-of-type {\n        vertical-align: middle;\n    }\n\n    .dataframe tbody tr th {\n        vertical-align: top;\n    }\n\n    .dataframe thead th {\n        text-align: right;\n    }\n</style>\n<table border=\"1\" class=\"dataframe\">\n  <thead>\n    <tr style=\"text-align: right;\">\n      <th></th>\n      <th>Total Degree</th>\n      <th>Degree Score</th>\n    </tr>\n  </thead>\n  <tbody>\n    <tr>\n      <th>0</th>\n      <td>1</td>\n      <td>1</td>\n    </tr>\n    <tr>\n      <th>1</th>\n      <td>2</td>\n      <td>2</td>\n    </tr>\n    <tr>\n      <th>2</th>\n      <td>3</td>\n      <td>3</td>\n    </tr>\n    <tr>\n      <th>3</th>\n      <td>4</td>\n      <td>4</td>\n    </tr>\n    <tr>\n      <th>4</th>\n      <td>5</td>\n      <td>5</td>\n    </tr>\n    <tr>\n      <th>5</th>\n      <td>6</td>\n      <td>6</td>\n    </tr>\n    <tr>\n      <th>6</th>\n      <td>7</td>\n      <td>7</td>\n    </tr>\n    <tr>\n      <th>7</th>\n      <td>8</td>\n      <td>8</td>\n    </tr>\n  </tbody>\n</table>\n</div>"
                    },
                    "metadata": {},
                    "execution_count": 154,
                    "output_type": "execute_result"
                }
            ],
            "execution_count": 154
        },
        {
            "cell_type": "code",
            "source": [
                "# Join score tables then Calculate total score\r\n",
                "uni_shortlist3 = uni_shortlist2.merge(score1, on = 'CITY', how = 'left') \\\r\n",
                "    .merge(score2, on = 'LOCALE', how = 'left') \\\r\n",
                "        .merge(score3, on = 'Total Degree', how = 'left')\r\n",
                "uni_shortlist3['Total_score'] = uni_shortlist3['Crime Score'] * 4 \\\r\n",
                "                                + uni_shortlist3['Startup Score'] * 3 \\\r\n",
                "                                + uni_shortlist3['Locale Score']  * 2 \\\r\n",
                "                                + uni_shortlist3['Degree Score']  * 1 \r\n",
                "# Sort by Score\r\n",
                "uni_shortlist3[['INSTNM', 'Total_score']].sort_values(by = 'Total_score' , ascending = False)\r\n",
                ""
            ],
            "metadata": {
                "azdata_cell_guid": "f2b2954e-3adb-4649-8ce1-f967ddf79d45"
            },
            "outputs": [
                {
                    "data": {
                        "text/plain": "                                          INSTNM  Total_score\n7            National American University-Denver         28.0\n3                    Community College of Denver         26.0\n8                               Regis University         26.0\n1                  The Art Institute of Colorado         25.0\n4                           University of Denver         25.0\n31                      Strayer University-Texas         25.0\n0                  University of Colorado Denver         24.0\n2                         College America-Denver         24.0\n5               Emily Griffith Technical College         24.0\n6        Metropolitan State University of Denver         24.0\n23                 Westwood College-Denver South         24.0\n30           National American University-Austin         23.0\n33     National American University-Austin South         23.0\n10             Austin Community College District         22.0\n12                     Houston Community College         21.0\n11                    Concordia University-Texas         20.0\n19             The University of Texas at Austin         19.0\n21                ITT Technical Institute-Austin         19.0\n26                      Everest Institute-Austin         18.0\n15                   Huston-Tillotson University         18.0\n32              CyberTex Institute of Technology         18.0\n18                     Saint Edward's University         18.0\n9                   The Art Institute of Houston         18.0\n29                   The Art Institute of Austin         18.0\n28  American InterContinental University-Houston         17.0\n27    Interactive Learning Systems-North Houston         17.0\n13                University of Houston-Downtown         17.0\n22          Interactive Learning Systems-Houston         17.0\n16          ITT Technical Institute-Houston West         17.0\n25                       Everest Institute-Hobby         16.0\n24                 Everest Institute-Greenspoint         16.0\n14                         University of Houston         16.0\n20                     Texas Southern University         16.0\n17                               Rice University         16.0",
                        "text/html": "<div>\n<style scoped>\n    .dataframe tbody tr th:only-of-type {\n        vertical-align: middle;\n    }\n\n    .dataframe tbody tr th {\n        vertical-align: top;\n    }\n\n    .dataframe thead th {\n        text-align: right;\n    }\n</style>\n<table border=\"1\" class=\"dataframe\">\n  <thead>\n    <tr style=\"text-align: right;\">\n      <th></th>\n      <th>INSTNM</th>\n      <th>Total_score</th>\n    </tr>\n  </thead>\n  <tbody>\n    <tr>\n      <th>7</th>\n      <td>National American University-Denver</td>\n      <td>28.0</td>\n    </tr>\n    <tr>\n      <th>3</th>\n      <td>Community College of Denver</td>\n      <td>26.0</td>\n    </tr>\n    <tr>\n      <th>8</th>\n      <td>Regis University</td>\n      <td>26.0</td>\n    </tr>\n    <tr>\n      <th>1</th>\n      <td>The Art Institute of Colorado</td>\n      <td>25.0</td>\n    </tr>\n    <tr>\n      <th>4</th>\n      <td>University of Denver</td>\n      <td>25.0</td>\n    </tr>\n    <tr>\n      <th>31</th>\n      <td>Strayer University-Texas</td>\n      <td>25.0</td>\n    </tr>\n    <tr>\n      <th>0</th>\n      <td>University of Colorado Denver</td>\n      <td>24.0</td>\n    </tr>\n    <tr>\n      <th>2</th>\n      <td>College America-Denver</td>\n      <td>24.0</td>\n    </tr>\n    <tr>\n      <th>5</th>\n      <td>Emily Griffith Technical College</td>\n      <td>24.0</td>\n    </tr>\n    <tr>\n      <th>6</th>\n      <td>Metropolitan State University of Denver</td>\n      <td>24.0</td>\n    </tr>\n    <tr>\n      <th>23</th>\n      <td>Westwood College-Denver South</td>\n      <td>24.0</td>\n    </tr>\n    <tr>\n      <th>30</th>\n      <td>National American University-Austin</td>\n      <td>23.0</td>\n    </tr>\n    <tr>\n      <th>33</th>\n      <td>National American University-Austin South</td>\n      <td>23.0</td>\n    </tr>\n    <tr>\n      <th>10</th>\n      <td>Austin Community College District</td>\n      <td>22.0</td>\n    </tr>\n    <tr>\n      <th>12</th>\n      <td>Houston Community College</td>\n      <td>21.0</td>\n    </tr>\n    <tr>\n      <th>11</th>\n      <td>Concordia University-Texas</td>\n      <td>20.0</td>\n    </tr>\n    <tr>\n      <th>19</th>\n      <td>The University of Texas at Austin</td>\n      <td>19.0</td>\n    </tr>\n    <tr>\n      <th>21</th>\n      <td>ITT Technical Institute-Austin</td>\n      <td>19.0</td>\n    </tr>\n    <tr>\n      <th>26</th>\n      <td>Everest Institute-Austin</td>\n      <td>18.0</td>\n    </tr>\n    <tr>\n      <th>15</th>\n      <td>Huston-Tillotson University</td>\n      <td>18.0</td>\n    </tr>\n    <tr>\n      <th>32</th>\n      <td>CyberTex Institute of Technology</td>\n      <td>18.0</td>\n    </tr>\n    <tr>\n      <th>18</th>\n      <td>Saint Edward's University</td>\n      <td>18.0</td>\n    </tr>\n    <tr>\n      <th>9</th>\n      <td>The Art Institute of Houston</td>\n      <td>18.0</td>\n    </tr>\n    <tr>\n      <th>29</th>\n      <td>The Art Institute of Austin</td>\n      <td>18.0</td>\n    </tr>\n    <tr>\n      <th>28</th>\n      <td>American InterContinental University-Houston</td>\n      <td>17.0</td>\n    </tr>\n    <tr>\n      <th>27</th>\n      <td>Interactive Learning Systems-North Houston</td>\n      <td>17.0</td>\n    </tr>\n    <tr>\n      <th>13</th>\n      <td>University of Houston-Downtown</td>\n      <td>17.0</td>\n    </tr>\n    <tr>\n      <th>22</th>\n      <td>Interactive Learning Systems-Houston</td>\n      <td>17.0</td>\n    </tr>\n    <tr>\n      <th>16</th>\n      <td>ITT Technical Institute-Houston West</td>\n      <td>17.0</td>\n    </tr>\n    <tr>\n      <th>25</th>\n      <td>Everest Institute-Hobby</td>\n      <td>16.0</td>\n    </tr>\n    <tr>\n      <th>24</th>\n      <td>Everest Institute-Greenspoint</td>\n      <td>16.0</td>\n    </tr>\n    <tr>\n      <th>14</th>\n      <td>University of Houston</td>\n      <td>16.0</td>\n    </tr>\n    <tr>\n      <th>20</th>\n      <td>Texas Southern University</td>\n      <td>16.0</td>\n    </tr>\n    <tr>\n      <th>17</th>\n      <td>Rice University</td>\n      <td>16.0</td>\n    </tr>\n  </tbody>\n</table>\n</div>"
                    },
                    "metadata": {},
                    "execution_count": 177,
                    "output_type": "execute_result"
                }
            ],
            "execution_count": 177
        }
    ]
}